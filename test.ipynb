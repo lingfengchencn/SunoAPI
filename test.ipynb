{
 "cells": [
  {
   "cell_type": "code",
   "execution_count": null,
   "metadata": {},
   "outputs": [],
   "source": [
    "\n",
    "import asyncio\n",
    "from suno_client import SunoClient\n",
    "import logging\n",
    "logging.basicConfig(level=logging.DEBUG,format=\"%(asctime)s - %(name)s - %(levelname)s - %(message)s\")\n"
   ]
  },
  {
   "cell_type": "code",
   "execution_count": null,
   "metadata": {},
   "outputs": [],
   "source": [
    "async def main():\n",
    "    cookie = \"\"\"\n",
    "\"\"\"\n",
    "    session_id = \"\"\n",
    "    suno_client =  SunoClient(session_id, cookie)\n",
    "    token = await suno_client.update_token()\n",
    "\n",
    "\n",
    "    # result = await suno_client.get_credits()\n",
    "    # print(result.to_json())  # 打印结果\n",
    "\n",
    "\n",
    "    # ids = [\"97d0c456-542a-4ef8-aa54-403606aae09a\",\"8ec91087-7dfe-4407-895f-8b101e5ee486\"]\n",
    "    # result = await suno_client.get_feed(ids)\n",
    "    # for clip in result:\n",
    "    #     print(clip.to_json())\n",
    "\n",
    "\n",
    " \n",
    "\n",
    "if __name__ == \"__main__\":\n",
    "    # 运行异步主函数\n",
    "    asyncio.run(main())"
   ]
  }
 ],
 "metadata": {
  "language_info": {
   "name": "python"
  }
 },
 "nbformat": 4,
 "nbformat_minor": 2
}
